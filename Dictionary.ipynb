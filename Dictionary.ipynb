{
 "cells": [
  {
   "cell_type": "markdown",
   "id": "e482427d",
   "metadata": {},
   "source": [
    "# Dictionary "
   ]
  },
  {
   "cell_type": "markdown",
   "id": "fd302b19",
   "metadata": {},
   "source": [
    "<img src=\"dictionary.jpg\">"
   ]
  },
  {
   "cell_type": "markdown",
   "id": "32553d8c",
   "metadata": {},
   "source": [
    "Create a Dictionary:"
   ]
  },
  {
   "cell_type": "markdown",
   "id": "bb181617",
   "metadata": {},
   "source": [
    "<img src=\"captains.avif\">"
   ]
  },
  {
   "cell_type": "code",
   "execution_count": 1,
   "id": "e6aec552",
   "metadata": {},
   "outputs": [],
   "source": [
    "captains={\n",
    "    \"Chennai Super Kings\": \"MS Dhoni\",\n",
    "    \"Delhi Capitals\": \"David Warner\",\n",
    "    \"Gujarat Titans\": \"Hardik Pandya\",\n",
    "    \"Kolkata Knight Riders\":\"Nitish Rana\",\n",
    "    \"Lucknow Super Giants\":\"KL Rahul\",\n",
    "    \"Mumbai Indians\":\"Rohit Sharma\",\n",
    "    \"Punjab Kings\": \"Shikhar Dhawan\",\n",
    "    \"Rajasthan Royals\":\"Sanju Samson\",\n",
    "    \"Royal Challengers Bangalore\": \"Faf du Plessis\",\n",
    "    \"Sunrisers Hyderabad\": \"Aiden Markram\"\n",
    "}"
   ]
  },
  {
   "cell_type": "markdown",
   "id": "a9e0c6b1",
   "metadata": {},
   "source": [
    "Display the Dictionary items:"
   ]
  },
  {
   "cell_type": "code",
   "execution_count": 2,
   "id": "9711ab50",
   "metadata": {},
   "outputs": [
    {
     "name": "stdout",
     "output_type": "stream",
     "text": [
      "{'Chennai Super Kings': 'MS Dhoni', 'Delhi Capitals': 'David Warner', 'Gujarat Titans': 'Hardik Pandya', 'Kolkata Knight Riders': 'Nitish Rana', 'Lucknow Super Giants': 'KL Rahul', 'Mumbai Indians': 'Rohit Sharma', 'Punjab Kings': 'Shikhar Dhawan', 'Rajasthan Royals': 'Sanju Samson', 'Royal Challengers Bangalore': 'Faf du Plessis', 'Sunrisers Hyderabad': 'Aiden Markram'}\n"
     ]
    }
   ],
   "source": [
    "print(captains)"
   ]
  },
  {
   "cell_type": "code",
   "execution_count": 5,
   "id": "c2d4b859",
   "metadata": {},
   "outputs": [
    {
     "name": "stdout",
     "output_type": "stream",
     "text": [
      "MS Dhoni\n",
      "MS Dhoni\n"
     ]
    }
   ],
   "source": [
    "print(captains['Chennai Super Kings'])\n",
    "print(captains.get('Chennai Super Kings'))"
   ]
  },
  {
   "cell_type": "markdown",
   "id": "309c9378",
   "metadata": {},
   "source": [
    "Get Keys --> return a list of all the keys in the dictionary"
   ]
  },
  {
   "cell_type": "code",
   "execution_count": 6,
   "id": "00c4b6af",
   "metadata": {},
   "outputs": [
    {
     "data": {
      "text/plain": [
       "dict_keys(['Chennai Super Kings', 'Delhi Capitals', 'Gujarat Titans', 'Kolkata Knight Riders', 'Lucknow Super Giants', 'Mumbai Indians', 'Punjab Kings', 'Rajasthan Royals', 'Royal Challengers Bangalore', 'Sunrisers Hyderabad'])"
      ]
     },
     "execution_count": 6,
     "metadata": {},
     "output_type": "execute_result"
    }
   ],
   "source": [
    "captains.keys()"
   ]
  },
  {
   "cell_type": "markdown",
   "id": "f040a686",
   "metadata": {},
   "source": [
    "Get Values --> return a list of all the values in the dictionary"
   ]
  },
  {
   "cell_type": "code",
   "execution_count": 7,
   "id": "062f923f",
   "metadata": {},
   "outputs": [
    {
     "data": {
      "text/plain": [
       "dict_values(['MS Dhoni', 'David Warner', 'Hardik Pandya', 'Nitish Rana', 'KL Rahul', 'Rohit Sharma', 'Shikhar Dhawan', 'Sanju Samson', 'Faf du Plessis', 'Aiden Markram'])"
      ]
     },
     "execution_count": 7,
     "metadata": {},
     "output_type": "execute_result"
    }
   ],
   "source": [
    "captains.values()"
   ]
  },
  {
   "cell_type": "markdown",
   "id": "35e26640",
   "metadata": {},
   "source": [
    "Change the Dictionary item value:"
   ]
  },
  {
   "cell_type": "code",
   "execution_count": 9,
   "id": "f55aed7d",
   "metadata": {},
   "outputs": [
    {
     "data": {
      "text/plain": [
       "{'Chennai Super Kings': 'MS Dhoni',\n",
       " 'Delhi Capitals': 'David Warner',\n",
       " 'Gujarat Titans': 'Hardik Pandya',\n",
       " 'Kolkata Knight Riders': 'Nitish Rana',\n",
       " 'Lucknow Super Giants': 'KL Rahul',\n",
       " 'Mumbai Indians': 'Rohit Sharma',\n",
       " 'Punjab Kings': 'Shikhar Dhawan',\n",
       " 'Rajasthan Royals': 'Sanju Samson',\n",
       " 'Royal Challengers Bangalore': 'Faf du Plessis',\n",
       " 'Sunrisers Hyderabad': 'Aiden Markram',\n",
       " 'Pune Warriors India': 'Sourav Ganguly'}"
      ]
     },
     "execution_count": 9,
     "metadata": {},
     "output_type": "execute_result"
    }
   ],
   "source": [
    "captains['Pune Warriors India']='Sourav Ganguly'\n",
    "captains"
   ]
  },
  {
   "cell_type": "markdown",
   "id": "2796d932",
   "metadata": {},
   "source": [
    "for loop:"
   ]
  },
  {
   "cell_type": "code",
   "execution_count": 11,
   "id": "a9a9ecbb",
   "metadata": {},
   "outputs": [
    {
     "name": "stdout",
     "output_type": "stream",
     "text": [
      "Chennai Super Kings\n",
      "Delhi Capitals\n",
      "Gujarat Titans\n",
      "Kolkata Knight Riders\n",
      "Lucknow Super Giants\n",
      "Mumbai Indians\n",
      "Punjab Kings\n",
      "Rajasthan Royals\n",
      "Royal Challengers Bangalore\n",
      "Sunrisers Hyderabad\n",
      "Pune Warriors India\n"
     ]
    }
   ],
   "source": [
    "for team in captains:\n",
    "    print(team)"
   ]
  },
  {
   "cell_type": "code",
   "execution_count": 12,
   "id": "47b14840",
   "metadata": {
    "scrolled": true
   },
   "outputs": [
    {
     "name": "stdout",
     "output_type": "stream",
     "text": [
      "Chennai Super Kings ==>captains[team]\n",
      "Delhi Capitals ==>captains[team]\n",
      "Gujarat Titans ==>captains[team]\n",
      "Kolkata Knight Riders ==>captains[team]\n",
      "Lucknow Super Giants ==>captains[team]\n",
      "Mumbai Indians ==>captains[team]\n",
      "Punjab Kings ==>captains[team]\n",
      "Rajasthan Royals ==>captains[team]\n",
      "Royal Challengers Bangalore ==>captains[team]\n",
      "Sunrisers Hyderabad ==>captains[team]\n",
      "Pune Warriors India ==>captains[team]\n"
     ]
    }
   ],
   "source": [
    "for team in captains:\n",
    "    print(team,\"==>captains[team]\")"
   ]
  },
  {
   "cell_type": "markdown",
   "id": "35317717",
   "metadata": {},
   "source": [
    "Get Items --> return each item in a dictionary, as tuples in a list"
   ]
  },
  {
   "cell_type": "code",
   "execution_count": 13,
   "id": "83958e5b",
   "metadata": {},
   "outputs": [
    {
     "data": {
      "text/plain": [
       "dict_items([('Chennai Super Kings', 'MS Dhoni'), ('Delhi Capitals', 'David Warner'), ('Gujarat Titans', 'Hardik Pandya'), ('Kolkata Knight Riders', 'Nitish Rana'), ('Lucknow Super Giants', 'KL Rahul'), ('Mumbai Indians', 'Rohit Sharma'), ('Punjab Kings', 'Shikhar Dhawan'), ('Rajasthan Royals', 'Sanju Samson'), ('Royal Challengers Bangalore', 'Faf du Plessis'), ('Sunrisers Hyderabad', 'Aiden Markram'), ('Pune Warriors India', 'Sourav Ganguly')])"
      ]
     },
     "execution_count": 13,
     "metadata": {},
     "output_type": "execute_result"
    }
   ],
   "source": [
    "captains.items()"
   ]
  },
  {
   "cell_type": "code",
   "execution_count": 15,
   "id": "ad1452d8",
   "metadata": {},
   "outputs": [
    {
     "name": "stdout",
     "output_type": "stream",
     "text": [
      "Chennai Super Kings ==> MS Dhoni\n",
      "Delhi Capitals ==> David Warner\n",
      "Gujarat Titans ==> Hardik Pandya\n",
      "Kolkata Knight Riders ==> Nitish Rana\n",
      "Lucknow Super Giants ==> KL Rahul\n",
      "Mumbai Indians ==> Rohit Sharma\n",
      "Punjab Kings ==> Shikhar Dhawan\n",
      "Rajasthan Royals ==> Sanju Samson\n",
      "Royal Challengers Bangalore ==> Faf du Plessis\n",
      "Sunrisers Hyderabad ==> Aiden Markram\n",
      "Pune Warriors India ==> Sourav Ganguly\n"
     ]
    }
   ],
   "source": [
    "for team,captains in captains.items():\n",
    "    print(team,\"==>\",captains)"
   ]
  },
  {
   "cell_type": "markdown",
   "id": "c7250b64",
   "metadata": {},
   "source": [
    "Listout all dictionary method:"
   ]
  },
  {
   "cell_type": "code",
   "execution_count": 16,
   "id": "86da0685",
   "metadata": {},
   "outputs": [
    {
     "data": {
      "text/plain": [
       "['__add__',\n",
       " '__class__',\n",
       " '__contains__',\n",
       " '__delattr__',\n",
       " '__dir__',\n",
       " '__doc__',\n",
       " '__eq__',\n",
       " '__format__',\n",
       " '__ge__',\n",
       " '__getattribute__',\n",
       " '__getitem__',\n",
       " '__getnewargs__',\n",
       " '__gt__',\n",
       " '__hash__',\n",
       " '__init__',\n",
       " '__init_subclass__',\n",
       " '__iter__',\n",
       " '__le__',\n",
       " '__len__',\n",
       " '__lt__',\n",
       " '__mod__',\n",
       " '__mul__',\n",
       " '__ne__',\n",
       " '__new__',\n",
       " '__reduce__',\n",
       " '__reduce_ex__',\n",
       " '__repr__',\n",
       " '__rmod__',\n",
       " '__rmul__',\n",
       " '__setattr__',\n",
       " '__sizeof__',\n",
       " '__str__',\n",
       " '__subclasshook__',\n",
       " 'capitalize',\n",
       " 'casefold',\n",
       " 'center',\n",
       " 'count',\n",
       " 'encode',\n",
       " 'endswith',\n",
       " 'expandtabs',\n",
       " 'find',\n",
       " 'format',\n",
       " 'format_map',\n",
       " 'index',\n",
       " 'isalnum',\n",
       " 'isalpha',\n",
       " 'isascii',\n",
       " 'isdecimal',\n",
       " 'isdigit',\n",
       " 'isidentifier',\n",
       " 'islower',\n",
       " 'isnumeric',\n",
       " 'isprintable',\n",
       " 'isspace',\n",
       " 'istitle',\n",
       " 'isupper',\n",
       " 'join',\n",
       " 'ljust',\n",
       " 'lower',\n",
       " 'lstrip',\n",
       " 'maketrans',\n",
       " 'partition',\n",
       " 'removeprefix',\n",
       " 'removesuffix',\n",
       " 'replace',\n",
       " 'rfind',\n",
       " 'rindex',\n",
       " 'rjust',\n",
       " 'rpartition',\n",
       " 'rsplit',\n",
       " 'rstrip',\n",
       " 'split',\n",
       " 'splitlines',\n",
       " 'startswith',\n",
       " 'strip',\n",
       " 'swapcase',\n",
       " 'title',\n",
       " 'translate',\n",
       " 'upper',\n",
       " 'zfill']"
      ]
     },
     "execution_count": 16,
     "metadata": {},
     "output_type": "execute_result"
    }
   ],
   "source": [
    "dir(captains)"
   ]
  },
  {
   "cell_type": "markdown",
   "id": "8f5cec84",
   "metadata": {},
   "source": [
    "# Exercise:"
   ]
  },
  {
   "cell_type": "markdown",
   "id": "1b36a20d",
   "metadata": {},
   "source": [
    "1.We have following information on countries and their population."
   ]
  },
  {
   "cell_type": "code",
   "execution_count": 1,
   "id": "3870eaf6",
   "metadata": {},
   "outputs": [],
   "source": [
    "dist={\n",
    "\"China\":\"143\",\n",
    "\"India\":\"136\",\n",
    "\"USA\":\"32\",\n",
    "\"Pakistan\":\"21\"}"
   ]
  },
  {
   "cell_type": "markdown",
   "id": "776810b8",
   "metadata": {},
   "source": [
    "a. print: if user enter print then it should print all countries with their population in this format,"
   ]
  },
  {
   "cell_type": "code",
   "execution_count": 2,
   "id": "60a81f34",
   "metadata": {},
   "outputs": [
    {
     "name": "stdout",
     "output_type": "stream",
     "text": [
      "China ==> 143\n",
      "India ==> 136\n",
      "USA ==> 32\n",
      "Pakistan ==> 21\n"
     ]
    }
   ],
   "source": [
    "for country in dist:\n",
    "    print(country,\"==>\",dist[country])"
   ]
  },
  {
   "cell_type": "markdown",
   "id": "7add2d17",
   "metadata": {},
   "source": [
    "b. add: if user input add then it should further ask for a country name to add. If country already exist in our dataset then it should print that it exist and do nothing. If it doesn't then it asks for population and add that new country/population in our dictionary and print it"
   ]
  },
  {
   "cell_type": "code",
   "execution_count": null,
   "id": "6636ea77",
   "metadata": {},
   "outputs": [],
   "source": [
    "country_name=input(\"Enter The Country name:\")\n",
    "x=dist.keys()\n",
    "if country_name in x:\n",
    "    print(\"Exist.\")\n",
    "else:\n",
    "    country_population=input(\"Enter The Country Population:\")\n",
    "    dist[\"country_name\"]=\"country_population\"\n",
    "    dist\n",
    "        \n"
   ]
  },
  {
   "cell_type": "code",
   "execution_count": null,
   "id": "a2bb6332",
   "metadata": {},
   "outputs": [],
   "source": []
  }
 ],
 "metadata": {
  "kernelspec": {
   "display_name": "Python 3 (ipykernel)",
   "language": "python",
   "name": "python3"
  },
  "language_info": {
   "codemirror_mode": {
    "name": "ipython",
    "version": 3
   },
   "file_extension": ".py",
   "mimetype": "text/x-python",
   "name": "python",
   "nbconvert_exporter": "python",
   "pygments_lexer": "ipython3",
   "version": "3.10.9"
  }
 },
 "nbformat": 4,
 "nbformat_minor": 5
}
