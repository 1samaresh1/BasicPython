{
 "cells": [
  {
   "cell_type": "markdown",
   "id": "35b0d323",
   "metadata": {},
   "source": [
    "# Tuples"
   ]
  },
  {
   "cell_type": "markdown",
   "id": "a577a07e",
   "metadata": {},
   "source": [
    "<img src=\"tuples.png\">"
   ]
  },
  {
   "cell_type": "markdown",
   "id": "f885d594",
   "metadata": {},
   "source": [
    "Create a Tuple:"
   ]
  },
  {
   "cell_type": "code",
   "execution_count": 1,
   "id": "a3423f5d",
   "metadata": {},
   "outputs": [],
   "source": [
    "mytuple=(1,2,3,4,5)"
   ]
  },
  {
   "cell_type": "markdown",
   "id": "4678f227",
   "metadata": {},
   "source": [
    "Display the tuple items:"
   ]
  },
  {
   "cell_type": "code",
   "execution_count": 2,
   "id": "233c64fc",
   "metadata": {},
   "outputs": [
    {
     "name": "stdout",
     "output_type": "stream",
     "text": [
      "(1, 2, 3, 4, 5)\n"
     ]
    }
   ],
   "source": [
    "print(mytuple)"
   ]
  },
  {
   "cell_type": "markdown",
   "id": "8a0128d8",
   "metadata": {},
   "source": [
    "Access tuple items:"
   ]
  },
  {
   "cell_type": "code",
   "execution_count": 5,
   "id": "d95e6d9f",
   "metadata": {},
   "outputs": [
    {
     "name": "stdout",
     "output_type": "stream",
     "text": [
      "2\n",
      "4\n",
      "(1, 2, 3)\n",
      "(2, 3)\n",
      "(4, 5)\n"
     ]
    }
   ],
   "source": [
    "print(mytuple[1])\n",
    "print(mytuple[3])\n",
    "print(mytuple[:3])\n",
    "print(mytuple[1:3])\n",
    "print(mytuple[3:])"
   ]
  },
  {
   "cell_type": "markdown",
   "id": "9d7a0bf4",
   "metadata": {},
   "source": [
    "Check a specified tuples exists or not:"
   ]
  },
  {
   "cell_type": "code",
   "execution_count": 6,
   "id": "d9a82091",
   "metadata": {},
   "outputs": [
    {
     "name": "stdout",
     "output_type": "stream",
     "text": [
      "Yes\n",
      "No\n"
     ]
    }
   ],
   "source": [
    "if 1 in mytuple:\n",
    "    print(\"Yes\")\n",
    "else:print(\"No\")\n",
    "\n",
    "if 6 in mytuple:\n",
    "    print(\"Yes\")\n",
    "else:print(\"No\")"
   ]
  },
  {
   "cell_type": "markdown",
   "id": "e002364f",
   "metadata": {},
   "source": [
    " Unchangeable--> tuple item dose't change"
   ]
  },
  {
   "cell_type": "code",
   "execution_count": 14,
   "id": "f208ab17",
   "metadata": {},
   "outputs": [
    {
     "ename": "TypeError",
     "evalue": "'tuple' object does not support item assignment",
     "output_type": "error",
     "traceback": [
      "\u001b[1;31m---------------------------------------------------------------------------\u001b[0m",
      "\u001b[1;31mTypeError\u001b[0m                                 Traceback (most recent call last)",
      "Cell \u001b[1;32mIn[14], line 1\u001b[0m\n\u001b[1;32m----> 1\u001b[0m mytuple[\u001b[38;5;241m2\u001b[39m]\u001b[38;5;241m=\u001b[39m(\u001b[38;5;241m6\u001b[39m)\n\u001b[0;32m      2\u001b[0m \u001b[38;5;28mprint\u001b[39m(mytuple)\n",
      "\u001b[1;31mTypeError\u001b[0m: 'tuple' object does not support item assignment"
     ]
    }
   ],
   "source": [
    "mytuple[2]=(6)\n",
    "print(mytuple)"
   ]
  },
  {
   "cell_type": "markdown",
   "id": "6dcbe8ec",
   "metadata": {},
   "source": [
    "Convert the tuple into a list"
   ]
  },
  {
   "cell_type": "code",
   "execution_count": 15,
   "id": "19dda7e8",
   "metadata": {},
   "outputs": [
    {
     "name": "stdout",
     "output_type": "stream",
     "text": [
      "[1, 2, 3, 4, 5]\n"
     ]
    }
   ],
   "source": [
    "mylist=list(mytuple)\n",
    "print(mylist)"
   ]
  },
  {
   "cell_type": "markdown",
   "id": "ed23c1f8",
   "metadata": {},
   "source": [
    "Unpacking a Tuple"
   ]
  },
  {
   "cell_type": "code",
   "execution_count": 17,
   "id": "dfc60fb3",
   "metadata": {},
   "outputs": [
    {
     "name": "stdout",
     "output_type": "stream",
     "text": [
      "1\n",
      "2\n",
      "4\n"
     ]
    }
   ],
   "source": [
    "(x,y,z,a,c)=mytuple\n",
    "print(x)\n",
    "print(y)\n",
    "print(a)\n"
   ]
  },
  {
   "cell_type": "code",
   "execution_count": 18,
   "id": "681cfc2d",
   "metadata": {},
   "outputs": [
    {
     "name": "stdout",
     "output_type": "stream",
     "text": [
      "1\n",
      "2\n",
      "[3, 4, 5]\n"
     ]
    }
   ],
   "source": [
    "(x,y,*z)=mytuple\n",
    "print(x)\n",
    "print(y)\n",
    "print(z)"
   ]
  },
  {
   "cell_type": "code",
   "execution_count": null,
   "id": "6c395bb6",
   "metadata": {},
   "outputs": [],
   "source": []
  }
 ],
 "metadata": {
  "kernelspec": {
   "display_name": "Python 3 (ipykernel)",
   "language": "python",
   "name": "python3"
  },
  "language_info": {
   "codemirror_mode": {
    "name": "ipython",
    "version": 3
   },
   "file_extension": ".py",
   "mimetype": "text/x-python",
   "name": "python",
   "nbconvert_exporter": "python",
   "pygments_lexer": "ipython3",
   "version": "3.10.9"
  }
 },
 "nbformat": 4,
 "nbformat_minor": 5
}
