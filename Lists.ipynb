{
 "cells": [
  {
   "cell_type": "markdown",
   "id": "5a3f3990",
   "metadata": {},
   "source": [
    "#                     Lists"
   ]
  },
  {
   "cell_type": "markdown",
   "id": "d3ec688a",
   "metadata": {},
   "source": [
    "<img src=pythonlist.png>"
   ]
  },
  {
   "cell_type": "markdown",
   "id": "b7f12695",
   "metadata": {},
   "source": [
    "Create a List:"
   ]
  },
  {
   "cell_type": "code",
   "execution_count": 4,
   "id": "cb2de1ef",
   "metadata": {},
   "outputs": [],
   "source": [
    "mylist=[\"apple\",\"mango\",\"banana\",\"cherry\"]"
   ]
  },
  {
   "cell_type": "markdown",
   "id": "8f0c510a",
   "metadata": {},
   "source": [
    "Display the list items:"
   ]
  },
  {
   "cell_type": "code",
   "execution_count": 5,
   "id": "961c2123",
   "metadata": {},
   "outputs": [
    {
     "name": "stdout",
     "output_type": "stream",
     "text": [
      "['apple', 'mango', 'banana', 'cherry']\n"
     ]
    }
   ],
   "source": [
    "print(mylist)"
   ]
  },
  {
   "cell_type": "markdown",
   "id": "d650e4d0",
   "metadata": {},
   "source": [
    "Access list items:"
   ]
  },
  {
   "cell_type": "code",
   "execution_count": 11,
   "id": "43d0c254",
   "metadata": {},
   "outputs": [
    {
     "name": "stdout",
     "output_type": "stream",
     "text": [
      "apple\n",
      "mango\n",
      "cherry\n",
      "['apple', 'mango', 'banana']\n",
      "['mango', 'banana']\n",
      "['banana', 'cherry']\n"
     ]
    }
   ],
   "source": [
    "print(mylist[0])\n",
    "print(mylist[1])\n",
    "print(mylist[3])\n",
    "print(mylist[:3])\n",
    "print(mylist[1:3])\n",
    "print(mylist[2:])"
   ]
  },
  {
   "cell_type": "markdown",
   "id": "d27f7457",
   "metadata": {},
   "source": [
    "Check a specified  item exists or not:"
   ]
  },
  {
   "cell_type": "code",
   "execution_count": 13,
   "id": "553c9e1b",
   "metadata": {},
   "outputs": [
    {
     "name": "stdout",
     "output_type": "stream",
     "text": [
      "Yes\n",
      "No\n"
     ]
    }
   ],
   "source": [
    "if \"apple\" in mylist:\n",
    "    print(\"Yes\")\n",
    "else:print(\"No\")\n",
    "\n",
    "if \"Potato\" in mylist:\n",
    "    print(\"Yes\")\n",
    "else:print(\"No\")\n"
   ]
  },
  {
   "cell_type": "markdown",
   "id": "153df2fa",
   "metadata": {},
   "source": [
    "Change  the list item value"
   ]
  },
  {
   "cell_type": "code",
   "execution_count": 14,
   "id": "bb8f6df8",
   "metadata": {},
   "outputs": [
    {
     "name": "stdout",
     "output_type": "stream",
     "text": [
      "['apple', 'mango', 'potato', 'cherry']\n"
     ]
    }
   ],
   "source": [
    "mylist[2]=\"potato\"\n",
    "print(mylist)"
   ]
  },
  {
   "cell_type": "markdown",
   "id": "ff193da0",
   "metadata": {},
   "source": [
    "insert list items:"
   ]
  },
  {
   "cell_type": "code",
   "execution_count": 15,
   "id": "62ba6690",
   "metadata": {},
   "outputs": [
    {
     "name": "stdout",
     "output_type": "stream",
     "text": [
      "['apple', 'mango', 'watermelon', 'potato', 'cherry']\n"
     ]
    }
   ],
   "source": [
    "mylist.insert(2,\"watermelon\")\n",
    "print(mylist)"
   ]
  },
  {
   "cell_type": "markdown",
   "id": "d7104e8f",
   "metadata": {},
   "source": [
    "Append items:"
   ]
  },
  {
   "cell_type": "code",
   "execution_count": 16,
   "id": "b4436f36",
   "metadata": {},
   "outputs": [
    {
     "name": "stdout",
     "output_type": "stream",
     "text": [
      "['apple', 'mango', 'watermelon', 'potato', 'cherry', 'orange']\n"
     ]
    }
   ],
   "source": [
    "mylist.append(\"orange\")\n",
    "print(mylist)"
   ]
  },
  {
   "cell_type": "markdown",
   "id": "528ad2a1",
   "metadata": {},
   "source": [
    "Extend list:"
   ]
  },
  {
   "cell_type": "code",
   "execution_count": 17,
   "id": "06ae657b",
   "metadata": {},
   "outputs": [
    {
     "name": "stdout",
     "output_type": "stream",
     "text": [
      "['apple', 'mango', 'watermelon', 'potato', 'cherry', 'orange', 'lechy', 'Kiwis']\n"
     ]
    }
   ],
   "source": [
    "mylist1=[\"lechy\",\"Kiwis\"]\n",
    "mylist.extend(mylist1)\n",
    "print(mylist)"
   ]
  },
  {
   "cell_type": "markdown",
   "id": "9d0a305c",
   "metadata": {},
   "source": [
    "Remove Specified Item"
   ]
  },
  {
   "cell_type": "code",
   "execution_count": 24,
   "id": "c874199a",
   "metadata": {},
   "outputs": [
    {
     "name": "stdout",
     "output_type": "stream",
     "text": [
      "['mango', 'potato', 'cherry', 'orange', 'lechy', 'Kiwis']\n"
     ]
    }
   ],
   "source": [
    "mylist.remove(\"apple\")\n",
    "print(mylist)"
   ]
  },
  {
   "cell_type": "markdown",
   "id": "fe117339",
   "metadata": {},
   "source": [
    "pop item-->remove the last item "
   ]
  },
  {
   "cell_type": "code",
   "execution_count": 25,
   "id": "2af536a9",
   "metadata": {},
   "outputs": [
    {
     "name": "stdout",
     "output_type": "stream",
     "text": [
      "['mango', 'potato', 'cherry', 'orange', 'lechy']\n"
     ]
    }
   ],
   "source": [
    "mylist.pop()\n",
    "print(mylist)"
   ]
  },
  {
   "cell_type": "markdown",
   "id": "317ebab6",
   "metadata": {},
   "source": [
    "pop item-->remove the item in Specified index"
   ]
  },
  {
   "cell_type": "code",
   "execution_count": 27,
   "id": "b7da0727",
   "metadata": {},
   "outputs": [
    {
     "name": "stdout",
     "output_type": "stream",
     "text": [
      "['mango', 'potato', 'cherry', 'lechy']\n"
     ]
    }
   ],
   "source": [
    "mylist.pop(3)\n",
    "print(mylist)"
   ]
  },
  {
   "cell_type": "markdown",
   "id": "463c5f90",
   "metadata": {},
   "source": [
    " For loop:"
   ]
  },
  {
   "cell_type": "code",
   "execution_count": 31,
   "id": "f073cd39",
   "metadata": {},
   "outputs": [
    {
     "name": "stdout",
     "output_type": "stream",
     "text": [
      "mango\n",
      "potato\n",
      "cherry\n",
      "lechy\n"
     ]
    }
   ],
   "source": [
    "for x in mylist:\n",
    "    print(x)"
   ]
  },
  {
   "cell_type": "code",
   "execution_count": 32,
   "id": "3683db16",
   "metadata": {},
   "outputs": [
    {
     "name": "stdout",
     "output_type": "stream",
     "text": [
      "mango\n",
      "potato\n",
      "cherry\n",
      "lechy\n"
     ]
    }
   ],
   "source": [
    "for x in range(len(mylist)):\n",
    "    print(mylist[x])"
   ]
  },
  {
   "cell_type": "markdown",
   "id": "ee3cbfe4",
   "metadata": {},
   "source": [
    "List Comprehension"
   ]
  },
  {
   "cell_type": "code",
   "execution_count": 33,
   "id": "37aed1de",
   "metadata": {},
   "outputs": [
    {
     "name": "stdout",
     "output_type": "stream",
     "text": [
      "['mango']\n"
     ]
    }
   ],
   "source": [
    "newlist=[]  #create a new list\n",
    "for x in mylist:\n",
    "    if \"m\" in x:\n",
    "        newlist.append(x)\n",
    "\n",
    "print(newlist)"
   ]
  },
  {
   "cell_type": "code",
   "execution_count": 34,
   "id": "0f0eac4d",
   "metadata": {},
   "outputs": [
    {
     "name": "stdout",
     "output_type": "stream",
     "text": [
      "['potato', 'cherry', 'lechy']\n"
     ]
    }
   ],
   "source": [
    "newlist1=[]  #create a new list\n",
    "for x in mylist:\n",
    "    if x !=\"mango\":\n",
    "        newlist1.append(x)\n",
    "\n",
    "print(newlist1)"
   ]
  },
  {
   "cell_type": "markdown",
   "id": "9a8c20db",
   "metadata": {},
   "source": [
    "Sorted the list"
   ]
  },
  {
   "cell_type": "code",
   "execution_count": 37,
   "id": "3453ecf4",
   "metadata": {},
   "outputs": [
    {
     "name": "stdout",
     "output_type": "stream",
     "text": [
      "['potato', 'cherry', 'lechy']\n",
      "['cherry', 'lechy', 'potato']\n"
     ]
    }
   ],
   "source": [
    "print(newlist1)\n",
    "newlist1.sort()\n",
    "print(newlist1)"
   ]
  },
  {
   "cell_type": "markdown",
   "id": "a52569fa",
   "metadata": {},
   "source": [
    "Reverse the list"
   ]
  },
  {
   "cell_type": "code",
   "execution_count": 38,
   "id": "f7d3d6f2",
   "metadata": {},
   "outputs": [
    {
     "name": "stdout",
     "output_type": "stream",
     "text": [
      "['cherry', 'lechy', 'potato']\n",
      "['potato', 'lechy', 'cherry']\n"
     ]
    }
   ],
   "source": [
    "print(newlist1)\n",
    "newlist1.reverse()\n",
    "print(newlist1)"
   ]
  },
  {
   "cell_type": "markdown",
   "id": "ce8a7540",
   "metadata": {},
   "source": [
    "Copy a list:"
   ]
  },
  {
   "cell_type": "code",
   "execution_count": 39,
   "id": "32c9acea",
   "metadata": {},
   "outputs": [
    {
     "name": "stdout",
     "output_type": "stream",
     "text": [
      "['potato', 'lechy', 'cherry']\n"
     ]
    }
   ],
   "source": [
    "copylist=newlist1.copy()\n",
    "print(copylist)"
   ]
  },
  {
   "cell_type": "code",
   "execution_count": null,
   "id": "67597525",
   "metadata": {},
   "outputs": [],
   "source": []
  }
 ],
 "metadata": {
  "kernelspec": {
   "display_name": "Python 3 (ipykernel)",
   "language": "python",
   "name": "python3"
  },
  "language_info": {
   "codemirror_mode": {
    "name": "ipython",
    "version": 3
   },
   "file_extension": ".py",
   "mimetype": "text/x-python",
   "name": "python",
   "nbconvert_exporter": "python",
   "pygments_lexer": "ipython3",
   "version": "3.10.9"
  }
 },
 "nbformat": 4,
 "nbformat_minor": 5
}
